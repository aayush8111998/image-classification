{
  "nbformat": 4,
  "nbformat_minor": 0,
  "metadata": {
    "colab": {
      "name": "FakeNewsDetection.ipynb",
      "provenance": [],
      "collapsed_sections": [],
      "authorship_tag": "ABX9TyMeNScxdMw/nTRDy5FxsVxz",
      "include_colab_link": true
    },
    "kernelspec": {
      "name": "python3",
      "display_name": "Python 3"
    },
    "language_info": {
      "name": "python"
    }
  },
  "cells": [
    {
      "cell_type": "markdown",
      "metadata": {
        "id": "view-in-github",
        "colab_type": "text"
      },
      "source": [
        "<a href=\"https://colab.research.google.com/github/aayush8111998/image-classification/blob/main/FakeNewsDetection.ipynb\" target=\"_parent\"><img src=\"https://colab.research.google.com/assets/colab-badge.svg\" alt=\"Open In Colab\"/></a>"
      ]
    },
    {
      "cell_type": "code",
      "metadata": {
        "colab": {
          "base_uri": "https://localhost:8080/"
        },
        "id": "jRxp0XOASrST",
        "outputId": "6081481c-f5c1-44f4-bd82-c20e9657d179"
      },
      "source": [
        "import numpy as np\n",
        "import pandas as pd\n",
        "import matplotlib.pyplot as plt\n",
        "import seaborn as sns\n",
        "\n",
        "true= pd.read_csv('True.csv')\n",
        "false= pd.read_csv('Fake.csv')\n",
        "\n",
        "true['isreal']=1\n",
        "false['isreal']=0\n",
        "\n",
        "new= pd.concat([true, false], ignore_index=True)\n",
        "#new.head()\n",
        "#new.info()\n",
        "new=new.drop(['text', 'subject', 'date'], axis=1)\n",
        "new.head()\n",
        "\n",
        "#sns.countplot(data=new, x='isreal')\n",
        "\n",
        "import re\n",
        "import nltk\n",
        "nltk.download('stopwords')\n",
        "from nltk.corpus import stopwords\n",
        "from nltk.stem.porter import PorterStemmer\n",
        "corpus=[]\n",
        "title= new['title'].values\n",
        "for i in title:\n",
        "  review= re.sub('[^a-zA-Z]', ' ', i)\n",
        "  review= review.lower()\n",
        "  review= review.split()\n",
        "  #print(review)\n",
        "  ps= PorterStemmer()\n",
        "  all= stopwords.words('english')\n",
        "  review=[ps.stem(word) for word in review if not word in set(all)]\n",
        "  review= ' '.join(review)\n",
        "  corpus.append(review)\n",
        "\n",
        "#print(corpus)\n",
        "from sklearn.feature_extraction.text import CountVectorizer\n",
        "cv= CountVectorizer(max_features= 1000)\n",
        "X= cv.fit_transform(corpus).toarray()\n",
        "Y= new.iloc[:, -1].values\n",
        "\n",
        "count= pd.DataFrame(X, columns= cv.get_feature_names())\n",
        "#count.head()\n",
        "\n",
        "from sklearn.model_selection import train_test_split\n",
        "xt1, xt2, yt1, yt2 = train_test_split(X, Y, test_size=0.2, random_state=0)\n",
        "\n",
        "from sklearn.ensemble import RandomForestClassifier\n",
        "classifier= RandomForestClassifier(n_estimators= 90, criterion='entropy', random_state=0)\n",
        "classifier.fit(xt1, yt1)\n",
        "\n",
        "\n",
        "\n",
        "y_pred= classifier.predict(xt2)\n",
        "#print(np.concatenate((y_pred.reshape(len(y_pred),1), yt2.reshape(len(yt2),1)),1))\n",
        "\n",
        "\n",
        "from sklearn.metrics import confusion_matrix, accuracy_score\n",
        "cm= confusion_matrix(yt2, y_pred)\n",
        "print(cm)\n",
        "accuracy_score(yt2, y_pred)\n",
        "\n",
        "\n",
        "\n",
        "\n",
        "\n",
        "  \n",
        "\n"
      ],
      "execution_count": null,
      "outputs": [
        {
          "output_type": "stream",
          "name": "stdout",
          "text": [
            "[nltk_data] Downloading package stopwords to /root/nltk_data...\n",
            "[nltk_data]   Package stopwords is already up-to-date!\n",
            "[[4407  263]\n",
            " [ 364 3946]]\n"
          ]
        },
        {
          "output_type": "execute_result",
          "data": {
            "text/plain": [
              "0.9301781737193764"
            ]
          },
          "metadata": {},
          "execution_count": 55
        }
      ]
    }
  ]
}